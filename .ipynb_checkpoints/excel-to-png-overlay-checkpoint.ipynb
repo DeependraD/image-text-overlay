{
 "cells": [
  {
   "cell_type": "code",
   "execution_count": 1,
   "id": "d5ce94d6",
   "metadata": {},
   "outputs": [],
   "source": [
    "# import numpy as np\n",
    "import PIL.Image as Image\n",
    "import PIL.ImageDraw as ImageDraw\n",
    "import PIL.ImageFont as ImageFont\n",
    "import pandas as pd\n",
    "import os"
   ]
  },
  {
   "cell_type": "code",
   "execution_count": 2,
   "id": "2a37f6f7",
   "metadata": {},
   "outputs": [
    {
     "name": "stderr",
     "output_type": "stream",
     "text": [
      "<ipython-input-2-e4157c261b7d>:8: FutureWarning: The default value of regex will change from True to False in a future version.\n",
      "  sample_details.columns = sample_details.columns.str.replace(r'\\s+', '_')\n"
     ]
    }
   ],
   "source": [
    "# os.path.join()\n",
    "excel_path = os.path.abspath(os.path.join(os.getcwd(), \"sample-details-and-results.xlsx\"))\n",
    "# or\n",
    "# os.path.join(os.curdir, \"sample-details-and-results.xlsx\") # with or without os.path.abspath\n",
    "# sample_details = pd.read_excel(excel_path, index_col='s|;+') # or give index_col in index (0), but the default index starts in python at 0\n",
    "\n",
    "sample_details = pd.read_excel(excel_path) # or give index_col in index (0)\n",
    "sample_details.columns = sample_details.columns.str.replace(r'\\s+', '_')\n",
    "sample_details.fillna('', inplace=True)"
   ]
  },
  {
   "cell_type": "code",
   "execution_count": 3,
   "id": "851ab3b9",
   "metadata": {},
   "outputs": [
    {
     "data": {
      "text/html": [
       "<div>\n",
       "<style scoped>\n",
       "    .dataframe tbody tr th:only-of-type {\n",
       "        vertical-align: middle;\n",
       "    }\n",
       "\n",
       "    .dataframe tbody tr th {\n",
       "        vertical-align: top;\n",
       "    }\n",
       "\n",
       "    .dataframe thead th {\n",
       "        text-align: right;\n",
       "    }\n",
       "</style>\n",
       "<table border=\"1\" class=\"dataframe\">\n",
       "  <thead>\n",
       "    <tr style=\"text-align: right;\">\n",
       "      <th></th>\n",
       "      <th>k|of]uzfnf_k/LIf0f_g+a/</th>\n",
       "      <th>Lab_test_number</th>\n",
       "      <th>Kind</th>\n",
       "      <th>Variety</th>\n",
       "      <th>Class</th>\n",
       "      <th>Date_of_registration</th>\n",
       "      <th>Certification_scheme</th>\n",
       "      <th>Purity</th>\n",
       "      <th>Moisture</th>\n",
       "      <th>Germination</th>\n",
       "      <th>...</th>\n",
       "      <th>Number_of_seeds_tested</th>\n",
       "      <th>Germinator_id</th>\n",
       "      <th>Oven_id</th>\n",
       "      <th>Number_of_primary_samples</th>\n",
       "      <th>Treatment_chemical</th>\n",
       "      <th>Treatment_dose</th>\n",
       "      <th>Production_year</th>\n",
       "      <th>Date_of_sampling</th>\n",
       "      <th>Sampled_by</th>\n",
       "      <th>Remarks</th>\n",
       "    </tr>\n",
       "  </thead>\n",
       "  <tbody>\n",
       "    <tr>\n",
       "      <th>0</th>\n",
       "      <td>!</td>\n",
       "      <td>1</td>\n",
       "      <td>Brassica juncea</td>\n",
       "      <td>Marpha Chaudapat</td>\n",
       "      <td>Certified</td>\n",
       "      <td></td>\n",
       "      <td>Certification</td>\n",
       "      <td>Yes</td>\n",
       "      <td>Yes</td>\n",
       "      <td>Yes</td>\n",
       "      <td>...</td>\n",
       "      <td>400</td>\n",
       "      <td>Germination cabinet 1</td>\n",
       "      <td>1</td>\n",
       "      <td></td>\n",
       "      <td>Mancozeb</td>\n",
       "      <td>5 gram per kg</td>\n",
       "      <td>2077</td>\n",
       "      <td>Jestha, 2078</td>\n",
       "      <td>XYZ Sharma</td>\n",
       "      <td>None</td>\n",
       "    </tr>\n",
       "    <tr>\n",
       "      <th>1</th>\n",
       "      <td>@</td>\n",
       "      <td>2</td>\n",
       "      <td>Onion</td>\n",
       "      <td>Red creole</td>\n",
       "      <td>Foundation</td>\n",
       "      <td></td>\n",
       "      <td>Certification</td>\n",
       "      <td>Yes</td>\n",
       "      <td>No</td>\n",
       "      <td>Yes</td>\n",
       "      <td>...</td>\n",
       "      <td>400</td>\n",
       "      <td>Room germinator 1</td>\n",
       "      <td>2</td>\n",
       "      <td></td>\n",
       "      <td></td>\n",
       "      <td></td>\n",
       "      <td>2078</td>\n",
       "      <td>Baisakh, 2078</td>\n",
       "      <td></td>\n",
       "      <td></td>\n",
       "    </tr>\n",
       "  </tbody>\n",
       "</table>\n",
       "<p>2 rows × 32 columns</p>\n",
       "</div>"
      ],
      "text/plain": [
       "  k|of]uzfnf_k/LIf0f_g+a/  Lab_test_number             Kind           Variety  \\\n",
       "0                       !                1  Brassica juncea  Marpha Chaudapat   \n",
       "1                       @                2            Onion        Red creole   \n",
       "\n",
       "        Class Date_of_registration Certification_scheme Purity Moisture  \\\n",
       "0   Certified                             Certification    Yes      Yes   \n",
       "1  Foundation                             Certification    Yes       No   \n",
       "\n",
       "  Germination  ... Number_of_seeds_tested          Germinator_id Oven_id  \\\n",
       "0         Yes  ...                    400  Germination cabinet 1       1   \n",
       "1         Yes  ...                    400      Room germinator 1       2   \n",
       "\n",
       "  Number_of_primary_samples Treatment_chemical Treatment_dose Production_year  \\\n",
       "0                                     Mancozeb  5 gram per kg            2077   \n",
       "1                                                                        2078   \n",
       "\n",
       "  Date_of_sampling  Sampled_by  Remarks  \n",
       "0     Jestha, 2078  XYZ Sharma     None  \n",
       "1    Baisakh, 2078                       \n",
       "\n",
       "[2 rows x 32 columns]"
      ]
     },
     "execution_count": 3,
     "metadata": {},
     "output_type": "execute_result"
    }
   ],
   "source": [
    "sample_details"
   ]
  },
  {
   "cell_type": "code",
   "execution_count": 4,
   "id": "54ff65e7",
   "metadata": {},
   "outputs": [],
   "source": [
    "font_preeti = ImageFont.truetype('fonts/preeti.ttf', 60) # second argument is the font size\n",
    "font_times_r = ImageFont.truetype('fonts/times.ttf', 40)\n",
    "font_times_i = ImageFont.truetype('fonts/timesi.ttf', 40)\n",
    "font_source_sans_r = ImageFont.truetype('fonts/SourceSansPro-Regular.ttf', 56)"
   ]
  },
  {
   "cell_type": "code",
   "execution_count": 5,
   "id": "11d7c2f6",
   "metadata": {},
   "outputs": [
    {
     "name": "stdout",
     "output_type": "stream",
     "text": [
      "1\n",
      "2\n"
     ]
    }
   ],
   "source": [
    "for row in sample_details.iloc[0:,0:].itertuples(index=False): # rows you want to get printed is sliced by iloc\n",
    "    # print(row) # to help you see what is happening but not necessary after\n",
    "    # row is tuple, doing row[0] access to the first item (the first column)\n",
    "    row_indexed=row.Lab_test_number\n",
    "    print(row_indexed)\n",
    "    analysis_card1 = Image.open(\"page1_front.png\", \"r\")\n",
    "    analysis_card1_draw = ImageDraw.Draw(analysis_card1)\n",
    "    # we can also you use custom row\n",
    "    analysis_card1_draw.text(xy=(2080,248), text= str(row.Lab_test_number), fill=(0,0,0), font=ImageFont.truetype('fonts/times.ttf', 48))\n",
    "    analysis_card1_draw.text(xy=(2080,185), text= row[0], fill=(0,0,0), font=font_preeti) # nepali font\n",
    "    analysis_card1_draw.text(xy=(1500,420), text= row.Variety, fill=(0,0,0), font=font_times_r)\n",
    "    analysis_card1_draw.text(xy=(322,370), text= str(row.Kind), fill=(0,0,0), font=font_times_i)\n",
    "    analysis_card1_draw.text(xy=(450,516), text= str(row.Lot_number), fill=(0,0,0), font=font_times_r)\n",
    "    analysis_card1_draw.text(xy=(360,390), text= str(row.Date_of_registration), fill=(0,0,0), font=font_times_r)\n",
    "    analysis_card1_draw.text(xy=(350,440), text= str(row.Weight_of_sample), fill=(0,0,0), font=font_times_r)\n",
    "    analysis_card1_draw.text(xy=(1470,470), text= str(row.Class), fill=(0,0,0), font=font_times_r)\n",
    "    if row.Germination == \"Yes\":\n",
    "        analysis_card1_draw.text(xy=(540,552), text= '✓', fill=(0,0,0), font=font_source_sans_r)\n",
    "    analysis_card1.save(\"./page1_front_test\" + str(row.Lab_test_number) + \"_text_drawn.jpg\", format = \"JPEG\", quality=120)"
   ]
  },
  {
   "cell_type": "code",
   "execution_count": 8,
   "id": "c5299ce9",
   "metadata": {},
   "outputs": [
    {
     "data": {
      "text/plain": [
       "Index(['k|of]uzfnf_k/LIf0f_g+a/', 'Lab_test_number', 'Kind', 'Variety',\n",
       "       'Class', 'Date_of_registration', 'Certification_scheme', 'Purity',\n",
       "       'Moisture', 'Germination', 'Balance_name', 'Weight_of_sample',\n",
       "       'Name_of_sender', 'Address_of_sender', 'Lot_number', 'Quantity_of_lot',\n",
       "       'Container_size', 'Germination_test_begun', 'Substratum', 'Temperature',\n",
       "       'Special_treatment', 'Seed_placed_by', 'Number_of_seeds_tested',\n",
       "       'Germinator_id', 'Oven_id', 'Number_of_primary_samples',\n",
       "       'Treatment_chemical', 'Treatment_dose', 'Production_year',\n",
       "       'Date_of_sampling', 'Sampled_by', 'Remarks'],\n",
       "      dtype='object')"
      ]
     },
     "execution_count": 8,
     "metadata": {},
     "output_type": "execute_result"
    }
   ],
   "source": [
    "sample_details.columns"
   ]
  },
  {
   "cell_type": "code",
   "execution_count": 10,
   "id": "182d436a",
   "metadata": {},
   "outputs": [
    {
     "name": "stdout",
     "output_type": "stream",
     "text": [
      "1\n",
      "2\n"
     ]
    }
   ],
   "source": [
    "for row in sample_details.iloc[0:,0:].itertuples(index=False): # rows you want to get printed is sliced by iloc\n",
    "    # print(row) # to help you see what is happening but not necessary after\n",
    "    # row is tuple, doing row[0] access to the first item (the first column)\n",
    "    row_indexed=row.Lab_test_number\n",
    "    print(row_indexed)\n",
    "    germination_card1 = Image.open(\"page1_back.png\", \"r\")\n",
    "    germination_card1_draw = ImageDraw.Draw(germination_card1)\n",
    "    # we can also you use custom row\n",
    "    germination_card1_draw.text(xy=(2080,248+70), text= str(row.Lab_test_number), fill=(0,0,0), font=ImageFont.truetype('fonts/times.ttf', 48))\n",
    "    germination_card1_draw.text(xy=(2080,185+70), text= row[0], fill=(0,0,0), font=font_preeti) # nepali font\n",
    "    germination_card1_draw.text(xy=(1500,420), text= row.Variety, fill=(0,0,0), font=font_times_r)\n",
    "    germination_card1_draw.text(xy=(322,370), text= str(row.Kind), fill=(0,0,0), font=font_times_i)\n",
    "#     germination_card1_draw.text(xy=(450,516), text= str(row.Lot_number), fill=(0,0,0), font=font_times_r)\n",
    "#     germination_card1_draw.text(xy=(360,390), text= str(row.Date_of_registration), fill=(0,0,0), font=font_times_r)\n",
    "    germination_card1_draw.text(xy=(350,440), text= str(row.Weight_of_sample), fill=(0,0,0), font=font_times_r)\n",
    "    germination_card1_draw.text(xy=(1470,470), text= str(row.Class), fill=(0,0,0), font=font_times_r)\n",
    "    if row.Germination == \"Yes\":\n",
    "        germination_card1_draw.text(xy=(540,552), text= '✓', fill=(0,0,0), font=font_source_sans_r)\n",
    "    germination_card1.save(\"./page1_back_test\" + str(row.Lab_test_number) + \"_text_drawn.jpg\", format = \"JPEG\", quality=120)"
   ]
  }
 ],
 "metadata": {
  "kernelspec": {
   "display_name": "Python 3",
   "language": "python",
   "name": "python3"
  },
  "language_info": {
   "codemirror_mode": {
    "name": "ipython",
    "version": 3
   },
   "file_extension": ".py",
   "mimetype": "text/x-python",
   "name": "python",
   "nbconvert_exporter": "python",
   "pygments_lexer": "ipython3",
   "version": "3.8.8"
  }
 },
 "nbformat": 4,
 "nbformat_minor": 5
}
